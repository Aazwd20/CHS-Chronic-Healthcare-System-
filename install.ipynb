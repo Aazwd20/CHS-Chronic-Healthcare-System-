{
 "cells": [
  {
   "cell_type": "code",
   "execution_count": null,
   "metadata": {},
   "outputs": [],
   "source": [
    "pip install --user category_encoders\n",
    "pip install --user imblearn"
   ]
  },
  {
   "cell_type": "code",
   "execution_count": null,
   "metadata": {},
   "outputs": [],
   "source": [
    "pip install --user tensorflow\n",
    "pip install --user XGBClassifier\n",
    "pip install xgboost\n",
    "pip install --user lightgbm\n",
    "pip install --user LGBMClassifier"
   ]
  }
 ],
 "metadata": {
  "language_info": {
   "name": "python"
  }
 },
 "nbformat": 4,
 "nbformat_minor": 2
}
